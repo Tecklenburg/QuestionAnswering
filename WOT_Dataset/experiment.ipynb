{
 "cells": [
  {
   "cell_type": "code",
   "execution_count": 1,
   "metadata": {},
   "outputs": [
    {
     "name": "stderr",
     "output_type": "stream",
     "text": [
      "/Users/niklastecklenburg/opt/miniconda3/envs/AI_env/lib/python3.10/site-packages/tqdm/auto.py:22: TqdmWarning: IProgress not found. Please update jupyter and ipywidgets. See https://ipywidgets.readthedocs.io/en/stable/user_install.html\n",
      "  from .autonotebook import tqdm as notebook_tqdm\n"
     ]
    }
   ],
   "source": [
    "import datasets"
   ]
  },
  {
   "cell_type": "code",
   "execution_count": 3,
   "metadata": {},
   "outputs": [
    {
     "name": "stderr",
     "output_type": "stream",
     "text": [
      "Using custom data configuration qa_0-data_dir=data_dir\n"
     ]
    },
    {
     "name": "stdout",
     "output_type": "stream",
     "text": [
      "Downloading and preparing dataset wot/qa_0 to /Users/niklastecklenburg/Desktop/Dataset/cache_dir/wot/qa_0-data_dir=data_dir/0.0.0/9744bb25a07e18caf3faf77785f428f22f2d0e8dd2ef1a95d6e4481001ff2570...\n"
     ]
    },
    {
     "name": "stderr",
     "output_type": "stream",
     "text": [
      "Downloading data files: 100%|██████████| 3/3 [00:00<00:00, 1483.83it/s]\n"
     ]
    }
   ],
   "source": [
    "data = datasets.load_dataset('WOT.py',\n",
    "                      'qa_0', \n",
    "                      data_dir='data_dir', \n",
    "                      cache_dir='cache_dir') \n",
    "data"
   ]
  },
  {
   "cell_type": "code",
   "execution_count": 80,
   "metadata": {},
   "outputs": [
    {
     "data": {
      "text/plain": [
       "Dataset({\n",
       "    features: ['conversation', 'text', 'turn', 'dangerous_tools', 'shared_data', 'real_life_action', 'relevant', 'useful', 'role', 'theme', 'intent', 'context_title', 'context_description', 'context_steps'],\n",
       "    num_rows: 0\n",
       "})"
      ]
     },
     "execution_count": 80,
     "metadata": {},
     "output_type": "execute_result"
    }
   ],
   "source": [
    "for i in range(100):\n",
    "    print(dataset['validation'][i]['input'])"
   ]
  },
  {
   "cell_type": "code",
   "execution_count": null,
   "metadata": {},
   "outputs": [],
   "source": []
  }
 ],
 "metadata": {
  "kernelspec": {
   "display_name": "Python 3.10.6 ('AI_env')",
   "language": "python",
   "name": "python3"
  },
  "language_info": {
   "codemirror_mode": {
    "name": "ipython",
    "version": 3
   },
   "file_extension": ".py",
   "mimetype": "text/x-python",
   "name": "python",
   "nbconvert_exporter": "python",
   "pygments_lexer": "ipython3",
   "version": "3.10.6"
  },
  "orig_nbformat": 4,
  "vscode": {
   "interpreter": {
    "hash": "ec451f8b380ea8ffc0422c0b33ef6b5326792083cc3fa72b71b39261de8e4b47"
   }
  }
 },
 "nbformat": 4,
 "nbformat_minor": 2
}
