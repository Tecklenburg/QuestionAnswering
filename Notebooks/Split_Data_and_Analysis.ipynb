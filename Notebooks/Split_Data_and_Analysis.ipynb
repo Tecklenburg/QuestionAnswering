{
 "cells": [
  {
   "cell_type": "code",
   "execution_count": 1,
   "metadata": {},
   "outputs": [],
   "source": [
    "import pandas as pd"
   ]
  },
  {
   "cell_type": "code",
   "execution_count": 8,
   "metadata": {},
   "outputs": [],
   "source": [
    "df = pd.read_excel('../WOT_internal_refined_6.xlsx').drop(columns=['Unnamed: 0.2', 'Unnamed: 0.1', 'Unnamed: 0'])"
   ]
  },
  {
   "attachments": {},
   "cell_type": "markdown",
   "metadata": {},
   "source": [
    "## Remove unanswerable"
   ]
  },
  {
   "cell_type": "code",
   "execution_count": 9,
   "metadata": {},
   "outputs": [],
   "source": [
    "df = df[df['is_unanswerable'] == False]"
   ]
  },
  {
   "attachments": {},
   "cell_type": "markdown",
   "metadata": {},
   "source": [
    "## Split datata based on Conversation"
   ]
  },
  {
   "cell_type": "code",
   "execution_count": 61,
   "metadata": {},
   "outputs": [
    {
     "data": {
      "text/html": [
       "<div>\n",
       "<style scoped>\n",
       "    .dataframe tbody tr th:only-of-type {\n",
       "        vertical-align: middle;\n",
       "    }\n",
       "\n",
       "    .dataframe tbody tr th {\n",
       "        vertical-align: top;\n",
       "    }\n",
       "\n",
       "    .dataframe thead th {\n",
       "        text-align: right;\n",
       "    }\n",
       "</style>\n",
       "<table border=\"1\" class=\"dataframe\">\n",
       "  <thead>\n",
       "    <tr style=\"text-align: right;\">\n",
       "      <th></th>\n",
       "      <th>data_split</th>\n",
       "      <th>conversation</th>\n",
       "      <th>question</th>\n",
       "      <th>domain</th>\n",
       "      <th>document_url</th>\n",
       "      <th>answer_orig_wot</th>\n",
       "      <th>history</th>\n",
       "      <th>parsed_html</th>\n",
       "      <th>title</th>\n",
       "      <th>steps</th>\n",
       "      <th>...</th>\n",
       "      <th>is_causal</th>\n",
       "      <th>is_listing</th>\n",
       "      <th>is_history</th>\n",
       "      <th>is_navigation</th>\n",
       "      <th>is_unanswerable</th>\n",
       "      <th>answers_extr</th>\n",
       "      <th>context</th>\n",
       "      <th>input</th>\n",
       "      <th>output</th>\n",
       "      <th>random_number_split</th>\n",
       "    </tr>\n",
       "  </thead>\n",
       "  <tbody>\n",
       "    <tr>\n",
       "      <th>0</th>\n",
       "      <td>test</td>\n",
       "      <td>412</td>\n",
       "      <td>412</td>\n",
       "      <td>412</td>\n",
       "      <td>412</td>\n",
       "      <td>412</td>\n",
       "      <td>375</td>\n",
       "      <td>412</td>\n",
       "      <td>412</td>\n",
       "      <td>412</td>\n",
       "      <td>...</td>\n",
       "      <td>412</td>\n",
       "      <td>412</td>\n",
       "      <td>412</td>\n",
       "      <td>412</td>\n",
       "      <td>412</td>\n",
       "      <td>412</td>\n",
       "      <td>412</td>\n",
       "      <td>412</td>\n",
       "      <td>412</td>\n",
       "      <td>412</td>\n",
       "    </tr>\n",
       "    <tr>\n",
       "      <th>1</th>\n",
       "      <td>train</td>\n",
       "      <td>248</td>\n",
       "      <td>248</td>\n",
       "      <td>248</td>\n",
       "      <td>248</td>\n",
       "      <td>248</td>\n",
       "      <td>225</td>\n",
       "      <td>248</td>\n",
       "      <td>248</td>\n",
       "      <td>248</td>\n",
       "      <td>...</td>\n",
       "      <td>248</td>\n",
       "      <td>248</td>\n",
       "      <td>248</td>\n",
       "      <td>248</td>\n",
       "      <td>248</td>\n",
       "      <td>248</td>\n",
       "      <td>248</td>\n",
       "      <td>248</td>\n",
       "      <td>248</td>\n",
       "      <td>248</td>\n",
       "    </tr>\n",
       "    <tr>\n",
       "      <th>2</th>\n",
       "      <td>validation</td>\n",
       "      <td>167</td>\n",
       "      <td>167</td>\n",
       "      <td>167</td>\n",
       "      <td>167</td>\n",
       "      <td>167</td>\n",
       "      <td>154</td>\n",
       "      <td>167</td>\n",
       "      <td>167</td>\n",
       "      <td>167</td>\n",
       "      <td>...</td>\n",
       "      <td>167</td>\n",
       "      <td>167</td>\n",
       "      <td>167</td>\n",
       "      <td>167</td>\n",
       "      <td>167</td>\n",
       "      <td>167</td>\n",
       "      <td>167</td>\n",
       "      <td>167</td>\n",
       "      <td>167</td>\n",
       "      <td>167</td>\n",
       "    </tr>\n",
       "  </tbody>\n",
       "</table>\n",
       "<p>3 rows × 36 columns</p>\n",
       "</div>"
      ],
      "text/plain": [
       "   data_split  conversation  question  domain  document_url  answer_orig_wot  \\\n",
       "0        test           412       412     412           412              412   \n",
       "1       train           248       248     248           248              248   \n",
       "2  validation           167       167     167           167              167   \n",
       "\n",
       "   history  parsed_html  title  steps  ...  is_causal  is_listing  is_history  \\\n",
       "0      375          412    412    412  ...        412         412         412   \n",
       "1      225          248    248    248  ...        248         248         248   \n",
       "2      154          167    167    167  ...        167         167         167   \n",
       "\n",
       "   is_navigation  is_unanswerable  answers_extr  context  input  output  \\\n",
       "0            412              412           412      412    412     412   \n",
       "1            248              248           248      248    248     248   \n",
       "2            167              167           167      167    167     167   \n",
       "\n",
       "   random_number_split  \n",
       "0                  412  \n",
       "1                  248  \n",
       "2                  167  \n",
       "\n",
       "[3 rows x 36 columns]"
      ]
     },
     "execution_count": 61,
     "metadata": {},
     "output_type": "execute_result"
    }
   ],
   "source": [
    "from sklearn.model_selection import train_test_split\n",
    "\n",
    "df_conversations = df.groupby('conversation').count().reset_index()[['conversation','question']].rename(columns={'question':'count'})\n",
    "df_conversations.loc[32, 'count'] = 6\n",
    "\n",
    "conversations = list(df_conversations['conversation'])\n",
    "count = list(df_conversations['count'])\n",
    "\n",
    "conversation_train, conversation_test, count_train, _ = train_test_split(conversations, count,\n",
    "                                                               test_size=0.5, random_state = 30, stratify=count)\n",
    "\n",
    "conversation_train, conversations_val, _, _ = train_test_split(conversation_train, count_train, \n",
    "                                                               test_size=0.4, random_state= 42, stratify=count_train)\n",
    "\n",
    "df['data_split'] = df['conversation'].apply(lambda x: 'train' if x in conversation_train else 'test' if x in conversation_test else 'validation')\n",
    "df.groupby('data_split').count().reset_index()"
   ]
  },
  {
   "cell_type": "code",
   "execution_count": 62,
   "metadata": {},
   "outputs": [
    {
     "name": "stdout",
     "output_type": "stream",
     "text": [
      "413.5\n",
      "248.1\n",
      "165.4\n"
     ]
    }
   ],
   "source": [
    "print(0.5 * len(df)) \n",
    "print(0.3 * len(df)) \n",
    "print(0.2 * len(df)) "
   ]
  },
  {
   "cell_type": "code",
   "execution_count": 63,
   "metadata": {},
   "outputs": [],
   "source": [
    "df.to_excel('../WOT_extractive_final.xlsx')"
   ]
  }
 ],
 "metadata": {
  "kernelspec": {
   "display_name": "project-env",
   "language": "python",
   "name": "python3"
  },
  "language_info": {
   "codemirror_mode": {
    "name": "ipython",
    "version": 3
   },
   "file_extension": ".py",
   "mimetype": "text/x-python",
   "name": "python",
   "nbconvert_exporter": "python",
   "pygments_lexer": "ipython3",
   "version": "3.8.10"
  },
  "orig_nbformat": 4
 },
 "nbformat": 4,
 "nbformat_minor": 2
}
